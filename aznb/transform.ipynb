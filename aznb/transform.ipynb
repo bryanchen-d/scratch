{
 "cells": [
  {
   "cell_type": "markdown",
   "metadata": {},
   "source": [
    "# Plotly Transform\n"
   ]
  },
  {
   "cell_type": "code",
   "execution_count": null,
   "metadata": {
    "collapsed": false
   },
   "outputs": [],
   "source": [
    "import IPython\n",
    "import plotly\n",
    "import json\n",
    "\n",
    "def plotize(data, layout=None):\n",
    "  \"\"\"Plot with Plotly.js using the Plotly JSON Chart Schema\n",
    "  \n",
    "  http://help.plot.ly/json-chart-schema/\n",
    "  \"\"\"\n",
    "  if layout is None:\n",
    "    layout = {}\n",
    "  \n",
    "  redata = json.loads(json.dumps(data, cls=plotly.utils.PlotlyJSONEncoder))\n",
    "  relayout = json.loads(json.dumps(layout, cls=plotly.utils.PlotlyJSONEncoder))\n",
    "  \n",
    "  bundle = {}\n",
    "  bundle['application/vnd.plotly.v1+json'] = {\n",
    "  \t'data': redata,\n",
    "    'layout': relayout,\n",
    "  }\n",
    "  \n",
    "  IPython.display.display(bundle, raw=True)"
   ]
  },
  {
   "cell_type": "code",
   "execution_count": null,
   "metadata": {
    "collapsed": false
   },
   "outputs": [],
   "source": [
    "data = [\n",
    "  {'x': [1999, 2000, 2001, 2002], 'y': [10, 15, 13, 17], 'type': 'scatter'},\n",
    "  {'x': [1999, 2000, 2001, 2002], 'y': [16, 5, 11, 9], 'type': 'scatter'}\n",
    "]\n",
    "\n",
    "layout = {\n",
    "  'title': 'Sales Growth',\n",
    "  'xaxis': { 'title': 'Year', 'showgrid': False, 'zeroline': False },\n",
    "  'yaxis': { 'title': 'Percent', 'showline': False }\n",
    "}"
   ]
  },
  {
   "cell_type": "code",
   "execution_count": null,
   "metadata": {
    "collapsed": false
   },
   "outputs": [],
   "source": [
    "plotize(data, layout)"
   ]
  },
  {
   "cell_type": "markdown",
   "metadata": {},
   "source": [
    "# Plotly Transform\n"
   ]
  },
  {
   "cell_type": "code",
   "execution_count": 1,
   "metadata": {
    "collapsed": false
   },
   "outputs": [],
   "source": [
    "# With the release of IPython 6 (coming April 2017), there's a GeoJSON display class that allows you to visualize GeoJSON data quickly.\n",
    "# from IPython.display import GeoJSON\n",
    "# In the meantime...\n",
    "from IPython.display import display\n",
    "def GeoJSON(data, **kwargs):\n",
    "    bundle = {\n",
    "        'application/geo+json': data,\n",
    "        'text/plain': '<IPython.display.GeoJSON object>'\n",
    "    }\n",
    "    metadata = {\n",
    "        'application/geo+json': kwargs\n",
    "    }\n",
    "    display(bundle, metadata=metadata, raw=True)"
   ]
  },
  {
   "cell_type": "code",
   "execution_count": 2,
   "metadata": {
    "collapsed": false
   },
   "outputs": [],
   "source": [
    "data = {\"type\":\"FeatureCollection\",\"features\":[{\"type\":\"Feature\",\"properties\":{\"place\":\"The coffee bar\",\"login\":\"espresso\",\"lat\":\"38.91427\",\"lon\":\"-77.02827\"},\"geometry\":{\"type\":\"Point\",\"coordinates\":[-77.02827,38.91427]}},{\"type\":\"Feature\",\"properties\":{\"place\":\"Bistro Bohem\",\"login\":\"2027355895\",\"lat\":\"38.91538\",\"lon\":\"-77.02013\"},\"geometry\":{\"type\":\"Point\",\"coordinates\":[-77.02013,38.91538]}},{\"type\":\"Feature\",\"properties\":{\"place\":\"Black Cat\",\"login\":\"luckycat\",\"lat\":\"38.91458\",\"lon\":\"-77.03155\"},\"geometry\":{\"type\":\"Point\",\"coordinates\":[-77.03155,38.91458]}},{\"type\":\"Feature\",\"properties\":{\"place\":\"Snap\",\"login\":\"nutella1\",\"lat\":\"38.92239\",\"lon\":\"-77.04227\"},\"geometry\":{\"type\":\"Point\",\"coordinates\":[-77.04227,38.92239]}},{\"type\":\"Feature\",\"properties\":{\"place\":\"Columbia Heights Coffee\",\"login\":\"FAIRTRADE1\",\"lat\":\"38.93222\",\"lon\":\"-77.02854\"},\"geometry\":{\"type\":\"Point\",\"coordinates\":[-77.02854,38.93222]}},{\"type\":\"Feature\",\"properties\":{\"place\":\"Azi's Cafe\",\"login\":\"sunny\",\"lat\":\"38.90842\",\"lon\":\"-77.02419\"},\"geometry\":{\"type\":\"Point\",\"coordinates\":[-77.02419,38.90842]}},{\"type\":\"Feature\",\"properties\":{\"place\":\"Blind Dog Cafe\",\"login\":\"baxtercantsee\",\"lat\":\"38.91931\",\"lon\":\"-77.02518\"},\"geometry\":{\"type\":\"Point\",\"coordinates\":[-77.02518,38.91931]}},{\"type\":\"Feature\",\"properties\":{\"place\":\"Le Caprice\",\"login\":\"baguette\",\"lat\":\"38.93260\",\"lon\":\"-77.03304\"},\"geometry\":{\"type\":\"Point\",\"coordinates\":[-77.03304,38.9326]}},{\"type\":\"Feature\",\"properties\":{\"place\":\"Filter\",\"login\":\"\",\"lat\":\"38.91368\",\"lon\":\"-77.04509\"},\"geometry\":{\"type\":\"Point\",\"coordinates\":[-77.04509,38.91368]}},{\"type\":\"Feature\",\"properties\":{\"place\":\"Peregrine\",\"login\":\"espresso\",\"lat\":\"38.88516\",\"lon\":\"-76.99656\"},\"geometry\":{\"type\":\"Point\",\"coordinates\":[-76.99656,38.88516]}},{\"type\":\"Feature\",\"properties\":{\"place\":\"Tryst\",\"login\":\"coupetnt\",\"lat\":\"38.921894\",\"lon\":\"-77.042438\"},\"geometry\":{\"type\":\"Point\",\"coordinates\":[-77.042438,38.921894]}},{\"type\":\"Feature\",\"properties\":{\"place\":\"The Coupe\",\"login\":\"voteforus\",\"lat\":\"38.93206\",\"lon\":\"-77.02821\"},\"geometry\":{\"type\":\"Point\",\"coordinates\":[-77.02821,38.93206]}},{\"type\":\"Feature\",\"properties\":{\"place\":\"Big Bear Cafe\",\"login\":\"\",\"lat\":\"38.91275\",\"lon\":\"-77.01239\"},\"geometry\":{\"type\":\"Point\",\"coordinates\":[-77.01239,38.91275]}}]}"
   ]
  },
  {
   "cell_type": "code",
   "execution_count": 3,
   "metadata": {
    "collapsed": false
   },
   "outputs": [
    {
     "data": {
      "application/geo+json": {
       "features": [
        {
         "geometry": {
          "coordinates": [
           -77.02827,
           38.91427
          ],
          "type": "Point"
         },
         "properties": {
          "lat": "38.91427",
          "login": "espresso",
          "lon": "-77.02827",
          "place": "The coffee bar"
         },
         "type": "Feature"
        },
        {
         "geometry": {
          "coordinates": [
           -77.02013,
           38.91538
          ],
          "type": "Point"
         },
         "properties": {
          "lat": "38.91538",
          "login": "2027355895",
          "lon": "-77.02013",
          "place": "Bistro Bohem"
         },
         "type": "Feature"
        },
        {
         "geometry": {
          "coordinates": [
           -77.03155,
           38.91458
          ],
          "type": "Point"
         },
         "properties": {
          "lat": "38.91458",
          "login": "luckycat",
          "lon": "-77.03155",
          "place": "Black Cat"
         },
         "type": "Feature"
        },
        {
         "geometry": {
          "coordinates": [
           -77.04227,
           38.92239
          ],
          "type": "Point"
         },
         "properties": {
          "lat": "38.92239",
          "login": "nutella1",
          "lon": "-77.04227",
          "place": "Snap"
         },
         "type": "Feature"
        },
        {
         "geometry": {
          "coordinates": [
           -77.02854,
           38.93222
          ],
          "type": "Point"
         },
         "properties": {
          "lat": "38.93222",
          "login": "FAIRTRADE1",
          "lon": "-77.02854",
          "place": "Columbia Heights Coffee"
         },
         "type": "Feature"
        },
        {
         "geometry": {
          "coordinates": [
           -77.02419,
           38.90842
          ],
          "type": "Point"
         },
         "properties": {
          "lat": "38.90842",
          "login": "sunny",
          "lon": "-77.02419",
          "place": "Azi's Cafe"
         },
         "type": "Feature"
        },
        {
         "geometry": {
          "coordinates": [
           -77.02518,
           38.91931
          ],
          "type": "Point"
         },
         "properties": {
          "lat": "38.91931",
          "login": "baxtercantsee",
          "lon": "-77.02518",
          "place": "Blind Dog Cafe"
         },
         "type": "Feature"
        },
        {
         "geometry": {
          "coordinates": [
           -77.03304,
           38.9326
          ],
          "type": "Point"
         },
         "properties": {
          "lat": "38.93260",
          "login": "baguette",
          "lon": "-77.03304",
          "place": "Le Caprice"
         },
         "type": "Feature"
        },
        {
         "geometry": {
          "coordinates": [
           -77.04509,
           38.91368
          ],
          "type": "Point"
         },
         "properties": {
          "lat": "38.91368",
          "login": "",
          "lon": "-77.04509",
          "place": "Filter"
         },
         "type": "Feature"
        },
        {
         "geometry": {
          "coordinates": [
           -76.99656,
           38.88516
          ],
          "type": "Point"
         },
         "properties": {
          "lat": "38.88516",
          "login": "espresso",
          "lon": "-76.99656",
          "place": "Peregrine"
         },
         "type": "Feature"
        },
        {
         "geometry": {
          "coordinates": [
           -77.042438,
           38.921894
          ],
          "type": "Point"
         },
         "properties": {
          "lat": "38.921894",
          "login": "coupetnt",
          "lon": "-77.042438",
          "place": "Tryst"
         },
         "type": "Feature"
        },
        {
         "geometry": {
          "coordinates": [
           -77.02821,
           38.93206
          ],
          "type": "Point"
         },
         "properties": {
          "lat": "38.93206",
          "login": "voteforus",
          "lon": "-77.02821",
          "place": "The Coupe"
         },
         "type": "Feature"
        },
        {
         "geometry": {
          "coordinates": [
           -77.01239,
           38.91275
          ],
          "type": "Point"
         },
         "properties": {
          "lat": "38.91275",
          "login": "",
          "lon": "-77.01239",
          "place": "Big Bear Cafe"
         },
         "type": "Feature"
        }
       ],
       "type": "FeatureCollection"
      },
      "text/plain": [
       "<IPython.display.GeoJSON object>"
      ]
     },
     "metadata": {
      "application/geo+json": {}
     },
     "output_type": "display_data"
    }
   ],
   "source": [
    "GeoJSON(data)"
   ]
  }
 ],
 "metadata": {
  "kernel_info": {
   "name": "python3"
  },
  "kernelspec": {
   "display_name": "Python 3",
   "language": "python",
   "name": "python3"
  },
  "language_info": {
   "codemirror_mode": {
    "name": "ipython",
    "version": 3
   },
   "file_extension": ".py",
   "mimetype": "text/x-python",
   "name": "python",
   "nbconvert_exporter": "python",
   "pygments_lexer": "ipython3",
   "version": "3.7.2"
  },
  "title": "Jupyter Transform"
 },
 "nbformat": 4,
 "nbformat_minor": 2
}
