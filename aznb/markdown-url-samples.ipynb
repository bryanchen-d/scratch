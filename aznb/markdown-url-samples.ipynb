{
 "metadata": {
  "language_info": {
   "codemirror_mode": {
    "name": "ipython",
    "version": 3
   },
   "file_extension": ".py",
   "mimetype": "text/x-python",
   "name": "python",
   "nbconvert_exporter": "python",
   "pygments_lexer": "ipython3",
   "version": "3.6.8"
  },
  "orig_nbformat": 2,
  "kernelspec": {
   "name": "python36864bit8f0016bca5f04a3886267fdb64139a9d",
   "display_name": "Python 3.6.8 64-bit"
  },
  "metadata": {
   "interpreter": {
    "hash": "89dc899d3812b9b2d0ea1ce1e8e83c3304b3fdd988da96cd9a77a13075242638"
   }
  }
 },
 "nbformat": 4,
 "nbformat_minor": 2,
 "cells": [
  {
   "source": [
    "# Image of Absolute Path\n",
    "\n",
    "![Image Sample](https://upload.wikimedia.org/wikipedia/commons/3/38/Jupyter_logo.svg)"
   ],
   "cell_type": "markdown",
   "metadata": {}
  },
  {
   "source": [
    "# Image of Relative Path\n",
    "\n",
    "![Image linked](widgets.gif)"
   ],
   "cell_type": "markdown",
   "metadata": {}
  },
  {
   "source": [
    "# Image from HTML markup\n",
    "## relative path: \n",
    "<img src=\"./xss.svg\" />\n",
    "\n",
    "## full path without protocol\n",
    "<img src=\"//upload.wikimedia.org/wikipedia/commons/3/38/Jupyter_logo.svg\" />\n",
    "\n",
    "## full path\n",
    "<img src=\"https://upload.wikimedia.org/wikipedia/commons/3/38/Jupyter_logo.svg\" />\n"
   ],
   "cell_type": "markdown",
   "metadata": {}
  },
  {
   "source": [
    "# Videos\n",
    "\n",
    "<video src=\"//news.microsoft.com/wp-content/uploads/prod/sites/591/2020/10/Header.mp4\"/>"
   ],
   "cell_type": "markdown",
   "metadata": {}
  },
  {
   "source": [
    "# Links\n",
    "|Markdown|HTML Markup|\n",
    "|--|--|\n",
    "|[Markdown Link with relative path](markdownsample.ipynb)|  <a href=\"markdownsample.ipynb\">HTML Markup Link with Relative Path</a>|\n",
    "|[Markdown Link with full path](https://github.com/bryanchen-d/scratch/blob/master/aznb/bokeh-01-BasicPlotting.ipynb)|  <a href=\"https://github.com/bryanchen-d/scratch/blob/master/aznb/bokeh-01-BasicPlotting.ipynb\">HTML Markup Link with full path</a>|\n",
    "|[Markdown Link with empty path]()|  <a href=\"\">HTML Markup Link with empty path</a>|\n",
    "\n"
   ],
   "cell_type": "markdown",
   "metadata": {}
  }
 ]
}